{
 "cells": [
  {
   "cell_type": "markdown",
   "metadata": {
    "_uuid": "8e45fb67c32a55c62a0f27e6de83b2d58bd4e886"
   },
   "source": [
    "# Data Characteristics:\n",
    "Compressive strength or compression strength is the capacity of a material or structure to withstand loads tending to reduce size, as opposed to tensile strength, which withstands loads tending to elongate.\n",
    "\n",
    "compressive strength is one of the most important engineering properties of concrete. It is a standard industrial practice that the concrete is classified based on grades. This grade is nothing but the Compressive Strength of the concrete cube or cylinder. Cube or Cylinder samples are usually tested under a compression testing machine to obtain the compressive strength of concrete. The test requisites differ country to country based on the design code.\n",
    "\n",
    "The concrete compressive strength is a highly nonlinear function of age and ingredients .These ingredients include cement, blast furnace slag, fly ash, water, superplasticizer, coarse aggregate, and fine aggregate.\n",
    "    \n",
    "The actual concrete compressive strength (MPa) for a given mixture under a specific age (days) was determined from laboratory. Data is in raw form (not scaled). \n",
    "\n",
    "The compressive strength of concrete can be calculated by the failure load divided with the cross sectional area resisting the load and reported in pounds per square inch in US customary units and mega pascals (MPa) in SI units. Concrete's compressive strength requirements can vary from 2500 psi (17 MPa) for residential concrete to 4000psi (28 MPa) and higher in commercial structures. Higher strengths upto and exceeding 10,000 psi (70 MPa) are specified for certain applications."
   ]
  },
  {
   "cell_type": "markdown",
   "metadata": {
    "_uuid": "1362ad976a09e2d57ca83470ddc6b3203accc4a6"
   },
   "source": [
    "# Attribute information\n",
    "* Cement (component 1) -- quantitative -- kg in a m3 mixture -- Input Variable\n",
    "* Blast Furnace Slag (component 2) -- quantitative -- kg in a m3 mixture -- Input Variable\n",
    "* Fly Ash (component 3) -- quantitative -- kg in a m3 mixture -- Input Variable\n",
    "* Water (component 4) -- quantitative -- kg in a m3 mixture -- Input Variable\n",
    "* Superplasticizer (component 5) -- quantitative -- kg in a m3 mixture -- Input Variable\n",
    "* Coarse Aggregate (component 6) -- quantitative -- kg in a m3 mixture -- Input Variable\n",
    "* Fine Aggregate (component 7) -- quantitative -- kg in a m3 mixture -- Input Variable\n",
    "* Age -- quantitative -- Day (1~365) -- Input Variable\n",
    "* Concrete compressive strength -- quantitative -- MPa(megapascals) -- Output Variable"
   ]
  },
  {
   "cell_type": "code",
   "execution_count": 1,
   "metadata": {
    "_kg_hide-input": true,
    "_uuid": "5598ea42f3691880cd70bec6846b6ede47be1c36"
   },
   "outputs": [],
   "source": [
    "#importing libraries\n",
    "import numpy as np\n",
    "import pandas as pd\n",
    "import matplotlib.pyplot as plt\n",
    "import seaborn as sns\n",
    "import itertools\n",
    "%matplotlib inline\n"
   ]
  },
  {
   "cell_type": "markdown",
   "metadata": {
    "_uuid": "fda23e9ba07353272206df2ab7d1be354adbf6ab"
   },
   "source": [
    "# Data - first few rows"
   ]
  },
  {
   "cell_type": "code",
   "execution_count": 2,
   "metadata": {
    "_kg_hide-input": true,
    "_uuid": "99fb100bda4c9c21bf44846ac2c144499da53436"
   },
   "outputs": [
    {
     "data": {
      "text/html": [
       "<div>\n",
       "<style scoped>\n",
       "    .dataframe tbody tr th:only-of-type {\n",
       "        vertical-align: middle;\n",
       "    }\n",
       "\n",
       "    .dataframe tbody tr th {\n",
       "        vertical-align: top;\n",
       "    }\n",
       "\n",
       "    .dataframe thead th {\n",
       "        text-align: right;\n",
       "    }\n",
       "</style>\n",
       "<table border=\"1\" class=\"dataframe\">\n",
       "  <thead>\n",
       "    <tr style=\"text-align: right;\">\n",
       "      <th></th>\n",
       "      <th>cement</th>\n",
       "      <th>slag</th>\n",
       "      <th>ash</th>\n",
       "      <th>water</th>\n",
       "      <th>superplastic</th>\n",
       "      <th>coarseagg</th>\n",
       "      <th>fineagg</th>\n",
       "      <th>age</th>\n",
       "      <th>strength</th>\n",
       "    </tr>\n",
       "  </thead>\n",
       "  <tbody>\n",
       "    <tr>\n",
       "      <th>0</th>\n",
       "      <td>141.3</td>\n",
       "      <td>212.0</td>\n",
       "      <td>0.0</td>\n",
       "      <td>203.5</td>\n",
       "      <td>0.0</td>\n",
       "      <td>971.8</td>\n",
       "      <td>748.5</td>\n",
       "      <td>28</td>\n",
       "      <td>29.89</td>\n",
       "    </tr>\n",
       "    <tr>\n",
       "      <th>1</th>\n",
       "      <td>168.9</td>\n",
       "      <td>42.2</td>\n",
       "      <td>124.3</td>\n",
       "      <td>158.3</td>\n",
       "      <td>10.8</td>\n",
       "      <td>1080.8</td>\n",
       "      <td>796.2</td>\n",
       "      <td>14</td>\n",
       "      <td>23.51</td>\n",
       "    </tr>\n",
       "    <tr>\n",
       "      <th>2</th>\n",
       "      <td>250.0</td>\n",
       "      <td>0.0</td>\n",
       "      <td>95.7</td>\n",
       "      <td>187.4</td>\n",
       "      <td>5.5</td>\n",
       "      <td>956.9</td>\n",
       "      <td>861.2</td>\n",
       "      <td>28</td>\n",
       "      <td>29.22</td>\n",
       "    </tr>\n",
       "    <tr>\n",
       "      <th>3</th>\n",
       "      <td>266.0</td>\n",
       "      <td>114.0</td>\n",
       "      <td>0.0</td>\n",
       "      <td>228.0</td>\n",
       "      <td>0.0</td>\n",
       "      <td>932.0</td>\n",
       "      <td>670.0</td>\n",
       "      <td>28</td>\n",
       "      <td>45.85</td>\n",
       "    </tr>\n",
       "    <tr>\n",
       "      <th>4</th>\n",
       "      <td>154.8</td>\n",
       "      <td>183.4</td>\n",
       "      <td>0.0</td>\n",
       "      <td>193.3</td>\n",
       "      <td>9.1</td>\n",
       "      <td>1047.4</td>\n",
       "      <td>696.7</td>\n",
       "      <td>28</td>\n",
       "      <td>18.29</td>\n",
       "    </tr>\n",
       "  </tbody>\n",
       "</table>\n",
       "</div>"
      ],
      "text/plain": [
       "   cement   slag    ash  water  superplastic  coarseagg  fineagg  age  \\\n",
       "0   141.3  212.0    0.0  203.5           0.0      971.8    748.5   28   \n",
       "1   168.9   42.2  124.3  158.3          10.8     1080.8    796.2   14   \n",
       "2   250.0    0.0   95.7  187.4           5.5      956.9    861.2   28   \n",
       "3   266.0  114.0    0.0  228.0           0.0      932.0    670.0   28   \n",
       "4   154.8  183.4    0.0  193.3           9.1     1047.4    696.7   28   \n",
       "\n",
       "   strength  \n",
       "0     29.89  \n",
       "1     23.51  \n",
       "2     29.22  \n",
       "3     45.85  \n",
       "4     18.29  "
      ]
     },
     "execution_count": 2,
     "metadata": {},
     "output_type": "execute_result"
    }
   ],
   "source": [
    "data = pd.read_csv(\"concrete.csv\")\n",
    "data.head()"
   ]
  },
  {
   "cell_type": "code",
   "execution_count": 5,
   "metadata": {
    "_kg_hide-input": true,
    "_uuid": "321b9bfec628278db32fd8bfbb9903f70a07d5d8"
   },
   "outputs": [],
   "source": [
    "#renaming columns\n",
    "data = data.rename(columns={'Cement (component 1)(kg in a m^3 mixture)':\"cement\",\n",
    "       'Blast Furnace Slag (component 2)(kg in a m^3 mixture)':\"furnace_slag\",\n",
    "       'Fly Ash (component 3)(kg in a m^3 mixture)':\"fly_ash\",\n",
    "       'Water  (component 4)(kg in a m^3 mixture)':\"water\",\n",
    "       'Superplasticizer (component 5)(kg in a m^3 mixture)':\"super_plasticizer\",\n",
    "       'Coarse Aggregate  (component 6)(kg in a m^3 mixture)':\"coarse_agg\",\n",
    "       'Fine Aggregate (component 7)(kg in a m^3 mixture)':\"fine_agg\", 'Age (day)':\"age\",\n",
    "       'Concrete compressive strength(MPa, megapascals) ':\"compressive_strength\"})"
   ]
  },
  {
   "cell_type": "markdown",
   "metadata": {
    "_uuid": "21797ed59a9f1f190943447ec00d6d9a6a0d0d07"
   },
   "source": [
    "# Data Information"
   ]
  },
  {
   "cell_type": "code",
   "execution_count": 6,
   "metadata": {
    "_kg_hide-input": true,
    "_uuid": "57e77055fbec8d9abb186a03d61d8e3067d11dd1"
   },
   "outputs": [
    {
     "name": "stdout",
     "output_type": "stream",
     "text": [
      "<class 'pandas.core.frame.DataFrame'>\n",
      "RangeIndex: 1030 entries, 0 to 1029\n",
      "Data columns (total 9 columns):\n",
      "cement          1030 non-null float64\n",
      "slag            1030 non-null float64\n",
      "ash             1030 non-null float64\n",
      "water           1030 non-null float64\n",
      "superplastic    1030 non-null float64\n",
      "coarseagg       1030 non-null float64\n",
      "fineagg         1030 non-null float64\n",
      "age             1030 non-null int64\n",
      "strength        1030 non-null float64\n",
      "dtypes: float64(8), int64(1)\n",
      "memory usage: 72.5 KB\n"
     ]
    }
   ],
   "source": [
    "data.info()"
   ]
  },
  {
   "cell_type": "markdown",
   "metadata": {
    "_uuid": "ee0ce26f4bb087db3cd0aeaad74bf782a1806ed8"
   },
   "source": [
    "# Missing values"
   ]
  },
  {
   "cell_type": "code",
   "execution_count": 7,
   "metadata": {
    "_kg_hide-input": true,
    "_uuid": "fff23fcc06e24127803376a987b4e4b9a2b5517d"
   },
   "outputs": [
    {
     "name": "stdout",
     "output_type": "stream",
     "text": [
      "cement          0\n",
      "slag            0\n",
      "ash             0\n",
      "water           0\n",
      "superplastic    0\n",
      "coarseagg       0\n",
      "fineagg         0\n",
      "age             0\n",
      "strength        0\n",
      "dtype: int64\n"
     ]
    }
   ],
   "source": [
    "print (data.isnull().sum())"
   ]
  },
  {
   "cell_type": "markdown",
   "metadata": {
    "_uuid": "4194e60b3b71964210a261ee9ce0c8dbaf989a6c"
   },
   "source": [
    "# Data dimensions"
   ]
  },
  {
   "cell_type": "code",
   "execution_count": 8,
   "metadata": {
    "_kg_hide-input": true,
    "_uuid": "2e0c76200a87fd186eff0c13debfebef1d663976"
   },
   "outputs": [
    {
     "name": "stdout",
     "output_type": "stream",
     "text": [
      "Number of rows    : 1030\n",
      "Number of columns : 9\n"
     ]
    }
   ],
   "source": [
    "print(\"Number of rows    :\",data.shape[0])\n",
    "print(\"Number of columns :\",data.shape[1])"
   ]
  },
  {
   "cell_type": "markdown",
   "metadata": {
    "_uuid": "a98762a538c93998d50c8cf8b06a31f20bf6d272"
   },
   "source": [
    "# Surface plot for variables\n",
    "* X - Axis = columns encoded as [ coarse_agg : 1, fine_agg : 2 , cement : 3 , fly_ash : 4 , water : 5 ,      furnace_slag:6,super_plasticizer : 7 , compressive_strength : 8 , age : 9]\n",
    "* Y - Axis = index.\n",
    "* Z - Axis = values ."
   ]
  },
  {
   "cell_type": "code",
   "execution_count": 9,
   "metadata": {
    "_kg_hide-input": true,
    "_uuid": "c08a28db45c7129a10975ff60673ae7f7dad8677"
   },
   "outputs": [
    {
     "ename": "KeyError",
     "evalue": "'coarse_agg'",
     "output_type": "error",
     "traceback": [
      "\u001b[1;31m---------------------------------------------------------------------------\u001b[0m",
      "\u001b[1;31mKeyError\u001b[0m                                  Traceback (most recent call last)",
      "\u001b[1;32m<ipython-input-9-d831ea65baa7>\u001b[0m in \u001b[0;36m<module>\u001b[1;34m\u001b[0m\n\u001b[0;32m      2\u001b[0m \u001b[0mdata1\u001b[0m \u001b[1;33m=\u001b[0m \u001b[0mdata\u001b[0m\u001b[1;33m.\u001b[0m\u001b[0mcopy\u001b[0m\u001b[1;33m(\u001b[0m\u001b[1;33m)\u001b[0m\u001b[1;33m\u001b[0m\u001b[1;33m\u001b[0m\u001b[0m\n\u001b[0;32m      3\u001b[0m \u001b[1;33m\u001b[0m\u001b[0m\n\u001b[1;32m----> 4\u001b[1;33m \u001b[0mdata1\u001b[0m \u001b[1;33m=\u001b[0m \u001b[0mdata1\u001b[0m\u001b[1;33m.\u001b[0m\u001b[0msort_values\u001b[0m\u001b[1;33m(\u001b[0m\u001b[0mby\u001b[0m\u001b[1;33m=\u001b[0m\u001b[1;33m[\u001b[0m\u001b[1;34m'coarse_agg'\u001b[0m\u001b[1;33m]\u001b[0m\u001b[1;33m,\u001b[0m\u001b[0mascending\u001b[0m\u001b[1;33m=\u001b[0m\u001b[1;32mTrue\u001b[0m\u001b[1;33m)\u001b[0m\u001b[1;33m.\u001b[0m\u001b[0mreset_index\u001b[0m\u001b[1;33m(\u001b[0m\u001b[1;33m)\u001b[0m\u001b[1;33m\u001b[0m\u001b[1;33m\u001b[0m\u001b[0m\n\u001b[0m\u001b[0;32m      5\u001b[0m \u001b[1;33m\u001b[0m\u001b[0m\n\u001b[0;32m      6\u001b[0m data1 = data1[['cement', 'furnace_slag', 'fly_ash', 'water', 'super_plasticizer',\n",
      "\u001b[1;32m~\\AppData\\Local\\Continuum\\anaconda3\\lib\\site-packages\\pandas\\core\\frame.py\u001b[0m in \u001b[0;36msort_values\u001b[1;34m(self, by, axis, ascending, inplace, kind, na_position)\u001b[0m\n\u001b[0;32m   4419\u001b[0m             \u001b[0mby\u001b[0m \u001b[1;33m=\u001b[0m \u001b[0mby\u001b[0m\u001b[1;33m[\u001b[0m\u001b[1;36m0\u001b[0m\u001b[1;33m]\u001b[0m\u001b[1;33m\u001b[0m\u001b[1;33m\u001b[0m\u001b[0m\n\u001b[0;32m   4420\u001b[0m             k = self._get_label_or_level_values(by, axis=axis,\n\u001b[1;32m-> 4421\u001b[1;33m                                                 stacklevel=stacklevel)\n\u001b[0m\u001b[0;32m   4422\u001b[0m \u001b[1;33m\u001b[0m\u001b[0m\n\u001b[0;32m   4423\u001b[0m             \u001b[1;32mif\u001b[0m \u001b[0misinstance\u001b[0m\u001b[1;33m(\u001b[0m\u001b[0mascending\u001b[0m\u001b[1;33m,\u001b[0m \u001b[1;33m(\u001b[0m\u001b[0mtuple\u001b[0m\u001b[1;33m,\u001b[0m \u001b[0mlist\u001b[0m\u001b[1;33m)\u001b[0m\u001b[1;33m)\u001b[0m\u001b[1;33m:\u001b[0m\u001b[1;33m\u001b[0m\u001b[1;33m\u001b[0m\u001b[0m\n",
      "\u001b[1;32m~\\AppData\\Local\\Continuum\\anaconda3\\lib\\site-packages\\pandas\\core\\generic.py\u001b[0m in \u001b[0;36m_get_label_or_level_values\u001b[1;34m(self, key, axis, stacklevel)\u001b[0m\n\u001b[0;32m   1380\u001b[0m             \u001b[0mvalues\u001b[0m \u001b[1;33m=\u001b[0m \u001b[0mself\u001b[0m\u001b[1;33m.\u001b[0m\u001b[0maxes\u001b[0m\u001b[1;33m[\u001b[0m\u001b[0maxis\u001b[0m\u001b[1;33m]\u001b[0m\u001b[1;33m.\u001b[0m\u001b[0mget_level_values\u001b[0m\u001b[1;33m(\u001b[0m\u001b[0mkey\u001b[0m\u001b[1;33m)\u001b[0m\u001b[1;33m.\u001b[0m\u001b[0m_values\u001b[0m\u001b[1;33m\u001b[0m\u001b[1;33m\u001b[0m\u001b[0m\n\u001b[0;32m   1381\u001b[0m         \u001b[1;32melse\u001b[0m\u001b[1;33m:\u001b[0m\u001b[1;33m\u001b[0m\u001b[1;33m\u001b[0m\u001b[0m\n\u001b[1;32m-> 1382\u001b[1;33m             \u001b[1;32mraise\u001b[0m \u001b[0mKeyError\u001b[0m\u001b[1;33m(\u001b[0m\u001b[0mkey\u001b[0m\u001b[1;33m)\u001b[0m\u001b[1;33m\u001b[0m\u001b[1;33m\u001b[0m\u001b[0m\n\u001b[0m\u001b[0;32m   1383\u001b[0m \u001b[1;33m\u001b[0m\u001b[0m\n\u001b[0;32m   1384\u001b[0m         \u001b[1;31m# Check for duplicates\u001b[0m\u001b[1;33m\u001b[0m\u001b[1;33m\u001b[0m\u001b[1;33m\u001b[0m\u001b[0m\n",
      "\u001b[1;31mKeyError\u001b[0m: 'coarse_agg'"
     ]
    }
   ],
   "source": [
    "from mpl_toolkits.mplot3d import Axes3D\n",
    "data1 = data.copy()\n",
    "\n",
    "data1 = data1.sort_values(by=['coarse_agg'],ascending=True).reset_index()\n",
    "\n",
    "data1 = data1[['cement', 'furnace_slag', 'fly_ash', 'water', 'super_plasticizer',\n",
    "               'coarse_agg', 'fine_agg', 'age', 'compressive_strength']] \n",
    "\n",
    "df = data1.unstack().reset_index()\n",
    "df.columns = [\"X\",\"Y\",\"Z\"]\n",
    "\n",
    "\n",
    "df[\"X\"] = df[\"X\"].map({'coarse_agg':1, 'fine_agg':2 , \n",
    "                       'cement':3, 'furnace_slag':6, 'fly_ash':4,\n",
    "                       'water':5, 'super_plasticizer':7,\n",
    "                        'age':9, 'compressive_strength':8})\n",
    " \n",
    "fig = plt.figure(figsize=(14,9))\n",
    "\n",
    "ax  = fig.gca(projection = \"3d\")\n",
    "\n",
    "surf = ax.plot_trisurf(df[\"X\"],df[\"Y\"],df[\"Z\"],cmap=\"jet\",linewidth=2)\n",
    "lab  = fig.colorbar(surf,shrink=.5,aspect=5)\n",
    "lab.set_label(\"values\",fontsize=15)\n",
    "\n",
    "ax.set_xlabel(\"variable_encoded\")\n",
    "ax.set_ylabel(\"index\")\n",
    "ax.set_zlabel(\"values\")\n",
    "\n",
    "plt.title(\"Surface plot\",color=\"navy\")\n",
    "plt.show()"
   ]
  },
  {
   "cell_type": "markdown",
   "metadata": {
    "_uuid": "5143a13b65928c2614d5537a44790e2087a67248"
   },
   "source": [
    "# Variables summary"
   ]
  },
  {
   "cell_type": "code",
   "execution_count": null,
   "metadata": {
    "_kg_hide-input": true,
    "_uuid": "d60323c1d225fb156fdca43f4548406531a42f1a"
   },
   "outputs": [],
   "source": [
    "plt.figure(figsize=(12,8))\n",
    "sns.heatmap(round(data.describe()[1:].transpose(),2),linewidth=2,annot=True,fmt=\"f\")\n",
    "plt.xticks(fontsize=20)\n",
    "plt.yticks(fontsize=12)\n",
    "plt.title(\"Variables summary\")\n",
    "plt.show()"
   ]
  },
  {
   "cell_type": "markdown",
   "metadata": {
    "_uuid": "255f629df27e09a15225751b8e5562a689a64451"
   },
   "source": [
    "# Ingredients Distribution"
   ]
  },
  {
   "cell_type": "code",
   "execution_count": null,
   "metadata": {
    "_kg_hide-input": true,
    "_uuid": "80926ba2768cd7f86731e6c425cfd1a456721801"
   },
   "outputs": [],
   "source": [
    "cols = [i for i in data.columns if i not in 'compressive_strength']\n",
    "length = len(cols)\n",
    "cs = [\"b\",\"r\",\"g\",\"c\",\"m\",\"k\",\"lime\",\"c\"]\n",
    "fig = plt.figure(figsize=(13,25))\n",
    "\n",
    "for i,j,k in itertools.zip_longest(cols,range(length),cs):\n",
    "    plt.subplot(4,2,j+1)\n",
    "    ax = sns.distplot(data[i],color=k,rug=True)\n",
    "    ax.set_facecolor(\"w\")\n",
    "    plt.axvline(data[i].mean(),linestyle=\"dashed\",label=\"mean\",color=\"k\")\n",
    "    plt.legend(loc=\"best\")\n",
    "    plt.title(i,color=\"navy\")\n",
    "    plt.xlabel(\"\")"
   ]
  },
  {
   "cell_type": "markdown",
   "metadata": {
    "_uuid": "2bfb7229b83d1d2c5b6108cdac34de4d11d46fdc"
   },
   "source": [
    "# Compressive strength distribution"
   ]
  },
  {
   "cell_type": "code",
   "execution_count": null,
   "metadata": {
    "_kg_hide-input": true,
    "_uuid": "1fe19cdc90de7783ae1741f654d49263dfdc0216"
   },
   "outputs": [],
   "source": [
    "plt.figure(figsize=(13,6))\n",
    "sns.distplot(data[\"compressive_strength\"],color=\"b\",rug=True)\n",
    "plt.axvline(data[\"compressive_strength\"].mean(),\n",
    "            linestyle=\"dashed\",color=\"k\",\n",
    "            label='mean',linewidth=2)\n",
    "plt.legend(loc=\"best\",prop={\"size\":14})\n",
    "plt.title(\"Compressivee strength distribution\")\n",
    "plt.show()"
   ]
  },
  {
   "cell_type": "markdown",
   "metadata": {
    "_uuid": "cf8a3d783c2acca0b9c152b4783ef59d2dd0e2cf"
   },
   "source": [
    "# Pair plot between variables"
   ]
  },
  {
   "cell_type": "code",
   "execution_count": null,
   "metadata": {
    "_kg_hide-input": true,
    "_uuid": "f287df7a0a2a9f80418e09b5dcc1919c9cf40fdd"
   },
   "outputs": [],
   "source": [
    "sns.pairplot(data,markers=\"h\")\n",
    "plt.show()"
   ]
  },
  {
   "cell_type": "markdown",
   "metadata": {
    "_uuid": "f35e481666dc621a997c4173fe66ff88ca15d418"
   },
   "source": [
    "# Contour plot between ingredients and compressive strength"
   ]
  },
  {
   "cell_type": "code",
   "execution_count": null,
   "metadata": {
    "_kg_hide-input": true,
    "_uuid": "1b118ad310eb65bf73f78df82a2e5aeb90bf7c4e"
   },
   "outputs": [],
   "source": [
    "cols = [i for i in data.columns if i not in 'compressive_strength']\n",
    "length = len(cols)\n",
    "\n",
    "plt.figure(figsize=(13,27))\n",
    "for i,j in itertools.zip_longest(cols,range(length)):\n",
    "    plt.subplot(4,2,j+1)\n",
    "    sns.kdeplot(data[i],\n",
    "                data[\"compressive_strength\"],\n",
    "                cmap=\"hot\",\n",
    "                shade=True)\n",
    "    plt.title(i+\"  &  compressive_strength\",color=\"navy\")\n"
   ]
  },
  {
   "cell_type": "markdown",
   "metadata": {
    "_uuid": "918badcf484d8766a4fbdc3c93170d2ad018f406"
   },
   "source": [
    "# Correlation between variables"
   ]
  },
  {
   "cell_type": "code",
   "execution_count": null,
   "metadata": {
    "_kg_hide-input": true,
    "_uuid": "c6834a15d2dc07164bcfe64c62a45ec372452f8b"
   },
   "outputs": [],
   "source": [
    "cor = data.corr()\n",
    "\n",
    "mask = np.zeros_like(cor)\n",
    "mask[np.triu_indices_from(mask)] = True\n",
    "\n",
    "plt.figure(figsize=(12,10))\n",
    "\n",
    "with sns.axes_style(\"white\"):\n",
    "    sns.heatmap(cor,annot=True,linewidth=2,\n",
    "                mask = mask,cmap=\"magma\")\n",
    "plt.title(\"Correlation between variables\")\n",
    "plt.show()"
   ]
  },
  {
   "cell_type": "markdown",
   "metadata": {
    "_uuid": "7a0271a62739ed039b170fe120025f4a918c73b5"
   },
   "source": [
    "# Swarm plot for variables"
   ]
  },
  {
   "cell_type": "code",
   "execution_count": null,
   "metadata": {
    "_kg_hide-input": true,
    "_uuid": "95d0f0348086d97f57412c876937aa95061e6085",
    "collapsed": true
   },
   "outputs": [],
   "source": [
    "\n",
    "cols = ['cement', 'furnace_slag', 'fly_ash', 'water', 'super_plasticizer',\n",
    "       'coarse_agg', 'fine_agg', 'age', 'compressive_strength'] \n",
    "\n",
    "\n",
    "\n",
    "length = len(cols)\n",
    "\n",
    "plt.figure(figsize=(12,25))\n",
    "\n",
    "for i,j in itertools.zip_longest(cols,range(length)):\n",
    "    \n",
    "    plt.subplot(3,3,j+1)\n",
    "    ax = sns.swarmplot( y = data[i],color=\"orange\")\n",
    "    ax.set_facecolor(\"k\")\n",
    "    ax.set_ylabel(\"\")\n",
    "    ax.set_title(i,color=\"navy\")\n",
    "    plt.subplots_adjust(wspace = .3)"
   ]
  },
  {
   "cell_type": "markdown",
   "metadata": {
    "_uuid": "6755b1bddd9a3875f7f43f894640c55e1f91f065"
   },
   "source": [
    "# 3D plot for cement ,compressive strength and super plasticizer\n",
    "* X - Axis = cement.\n",
    "* Y - Axis = compressive strength.\n",
    "* Z - Axis = super plasticizer.\n",
    "* Color    = Age"
   ]
  },
  {
   "cell_type": "code",
   "execution_count": null,
   "metadata": {
    "_kg_hide-input": true,
    "_uuid": "a573c00cd0ffa56c3058f32b0842c55ff23d7f21",
    "collapsed": true
   },
   "outputs": [],
   "source": [
    "from mpl_toolkits.mplot3d import Axes3D\n",
    "\n",
    "fig = plt.figure(figsize=(14,11))\n",
    "\n",
    "ax  = fig.gca(projection = \"3d\")\n",
    "#plt.subplot(111,projection = \"3d\") \n",
    "\n",
    "plot =  ax.scatter(data[\"cement\"],\n",
    "           data[\"compressive_strength\"],\n",
    "           data[\"super_plasticizer\"],\n",
    "           linewidth=1,edgecolor =\"k\",\n",
    "           c=data[\"age\"],s=100,cmap=\"cool\")\n",
    "\n",
    "ax.set_xlabel(\"cement\")\n",
    "ax.set_ylabel(\"compressive_strength\")\n",
    "ax.set_zlabel(\"super_plasticizer\")\n",
    "\n",
    "lab = fig.colorbar(plot,shrink=.5,aspect=5)\n",
    "lab.set_label(\"AGE\",fontsize = 15)\n",
    "\n",
    "plt.title(\"3D plot for cement,compressive strength and super plasticizer\",color=\"navy\")\n",
    "plt.show()"
   ]
  },
  {
   "cell_type": "code",
   "execution_count": null,
   "metadata": {
    "_kg_hide-input": true,
    "_uuid": "32cc10e443b29a88d5ce72bfd4c31b45a1a6c1d8",
    "collapsed": true
   },
   "outputs": [],
   "source": [
    "#Binning days to months\n",
    "def label(data):\n",
    "    if data[\"age\"] <= 30:\n",
    "        return \"1 month\"\n",
    "    if data[\"age\"] > 30 and data[\"age\"] <= 60 :\n",
    "        return \"2 months\"\n",
    "    if data[\"age\"] > 60 and data[\"age\"] <= 90 :\n",
    "        return \"3 months\"\n",
    "    if data[\"age\"] > 90 and data[\"age\"] <= 120 :\n",
    "        return \"4 months\"\n",
    "    if data[\"age\"] > 120 and data[\"age\"] <= 150 :\n",
    "        return \"5 months\"\n",
    "    if data[\"age\"] > 150 and data[\"age\"] <= 180 :\n",
    "        return \"6 months\"\n",
    "    if data[\"age\"] > 180 and data[\"age\"] <= 210 :\n",
    "        return \"7 months\"\n",
    "    if data[\"age\"] > 210 and data[\"age\"] <= 240 :\n",
    "        return \"8 months\"\n",
    "    if data[\"age\"] > 240 and data[\"age\"] <= 270 :\n",
    "        return \"9 months\"\n",
    "    if data[\"age\"] > 270 and data[\"age\"] <= 300 :\n",
    "        return \"10 months\"\n",
    "    if data[\"age\"] > 300 and data[\"age\"] <= 330 :\n",
    "        return \"11 months\"\n",
    "    if data[\"age\"] > 330 :\n",
    "        return \"12 months\"\n",
    "data[\"age_months\"] = data.apply(lambda data:label(data) , axis=1)"
   ]
  },
  {
   "cell_type": "markdown",
   "metadata": {
    "_uuid": "56668feb3604eeb0f666a70d86553c6e0bf9fd6f"
   },
   "source": [
    "\n",
    "# Age distribution in months"
   ]
  },
  {
   "cell_type": "code",
   "execution_count": null,
   "metadata": {
    "_kg_hide-input": true,
    "_uuid": "fc35757091d00ad894f794db8d08c06c74246e81",
    "collapsed": true
   },
   "outputs": [],
   "source": [
    "plt.figure(figsize=(12,5))\n",
    "order = ['1 month','2 months', '3 months','4 months','6 months','9 months', '12 months']\n",
    "ax = sns.countplot(data[\"age_months\"],\n",
    "                   order=order,linewidth=2,\n",
    "                   edgecolor = \"k\"*len(order),\n",
    "                   palette=[\"w\"])\n",
    "ax.set_facecolor(\"royalblue\")\n",
    "plt.title(\"age distribution in months\")\n",
    "plt.grid(True,alpha=.3)\n",
    "plt.show()"
   ]
  },
  {
   "cell_type": "markdown",
   "metadata": {
    "_uuid": "2d6f474f7f46b186b46833bca0826fe066ca5408"
   },
   "source": [
    "# Compreesive strength by months"
   ]
  },
  {
   "cell_type": "code",
   "execution_count": null,
   "metadata": {
    "_kg_hide-input": true,
    "_uuid": "ba02827c4b7e9c1e71f5ebbb8ed6179676254594",
    "collapsed": true
   },
   "outputs": [],
   "source": [
    "age_mon = data.groupby(\"age_months\")[\"compressive_strength\"].describe().reset_index()\n",
    "\n",
    "order  = ['1 month','2 months', '3 months','4 months','6 months','9 months', '12 months']\n",
    "cols   = [ 'mean', 'std' , 'min' , 'max']\n",
    "length = len(cols)\n",
    "cs     = [\"b\",\"orange\",\"white\",\"r\"] \n",
    "\n",
    "fig = plt.figure(figsize=(13,15))\n",
    "\n",
    "for i,j,k in itertools.zip_longest(cols,range(length),cs):\n",
    "    plt.subplot(4,1,j+1)\n",
    "    ax = sns.pointplot(\"age_months\",i,data=age_mon,\n",
    "                       order=order,\n",
    "                       markers=\"H\",\n",
    "                       linestyles=\"dotted\",color=k)\n",
    "    plt.subplots_adjust(hspace=.5)\n",
    "    ax.set_facecolor(\"k\")\n",
    "    plt.title(i+\" - compressive strength by months\",color=\"navy\")\n"
   ]
  },
  {
   "cell_type": "markdown",
   "metadata": {
    "_uuid": "73a14dc065637cace459675ef7092f03e2edb911"
   },
   "source": [
    "# parllell coordinates plot for 3 categories \n",
    "* Concrete's compressive strength requirements can vary from 2500 psi (17 MPa) for residential concrete to 4000psi (28 MPa) and higher in commercial structures. Higher strengths upto and exceeding 10,000 psi (70 MPa) are specified for certain applications.\n",
    "* Binning compressive strength in 3 categories.\n",
    "* category 1 - mpa  less than 17.\n",
    "* category 2 - mpa in between 17 to 28.\n",
    "* category 3 - mpa greater than 28."
   ]
  },
  {
   "cell_type": "code",
   "execution_count": null,
   "metadata": {
    "_kg_hide-input": true,
    "_uuid": "a546a021dcd2bd583a98a7328e9b38c652f3d244",
    "collapsed": true
   },
   "outputs": [],
   "source": [
    "data2  =  data.copy()\n",
    "\n",
    "def lab(data2):\n",
    "    if data2[\"compressive_strength\"] <= 17:\n",
    "        return \"category 1\"\n",
    "    if data2[\"compressive_strength\"] >17 and data2[\"compressive_strength\"] <= 28 :\n",
    "        return \"category 2\"\n",
    "    if data2[\"compressive_strength\"] >28 :\n",
    "        return \"category 3 \"\n",
    "    \n",
    "data2[\"compressive_strength_category\"] = data2.apply(lambda data2:lab(data2) ,axis =1)\n",
    "\n",
    "from pandas.plotting import parallel_coordinates\n",
    "\n",
    "cols1 = ['cement', 'furnace_slag','fly_ash', 'water',\"compressive_strength_category\",'age']\n",
    "\n",
    "plt.figure(figsize=(12,8))\n",
    "parallel_coordinates(data2[cols1],\"compressive_strength_category\")\n",
    "plt.title(\"parllell coordinates plot for 3 categories\")\n",
    "plt.show()"
   ]
  },
  {
   "cell_type": "markdown",
   "metadata": {
    "_uuid": "7d73b59f2a3baaf5fa641a68a54a90623a7304a4"
   },
   "source": [
    "# scatter plot between cement and water\n",
    "* X - axis = water.\n",
    "* Y - axis = cement.\n",
    "* SIZE and COLOR = compressive strength."
   ]
  },
  {
   "cell_type": "code",
   "execution_count": null,
   "metadata": {
    "_kg_hide-input": true,
    "_uuid": "21691070648fe158447e9988bb62f4a3704c60fb",
    "collapsed": true
   },
   "outputs": [],
   "source": [
    "fig = plt.figure(figsize=(13,8))\n",
    "ax = fig.add_subplot(111)\n",
    "plt.scatter(data[\"water\"],data[\"cement\"],\n",
    "            c=data[\"compressive_strength\"],s=data[\"compressive_strength\"]*3,\n",
    "            linewidth=1,edgecolor=\"k\",cmap=\"viridis\")\n",
    "ax.set_facecolor(\"w\")\n",
    "ax.set_xlabel(\"water\")\n",
    "ax.set_ylabel(\"cement\")\n",
    "lab = plt.colorbar()\n",
    "lab.set_label(\"compressive_strength\")\n",
    "plt.title(\"scatter plot between cement and water\")\n",
    "plt.grid(True,alpha=.3)\n",
    "plt.show()"
   ]
  },
  {
   "cell_type": "markdown",
   "metadata": {
    "_uuid": "adbe36a095fc130572e491700b8607d7a6528b0f"
   },
   "source": [
    "# scatter plot between fine_agg and coarse_agg.\n",
    "* X - axis = fine_agg.\n",
    "* Y - axis = coarse_agg.\n",
    "* SIZE and COLOR = compressive strength."
   ]
  },
  {
   "cell_type": "code",
   "execution_count": null,
   "metadata": {
    "_kg_hide-input": true,
    "_uuid": "0c4273852c7fc9fc8cc4b7d8cf1a4d2b7f084668",
    "collapsed": true
   },
   "outputs": [],
   "source": [
    "fig = plt.figure(figsize=(13,8))\n",
    "ax = fig.add_subplot(111)\n",
    "plt.scatter(data[\"fine_agg\"],data[\"coarse_agg\"],\n",
    "            c=data[\"compressive_strength\"],s=data[\"compressive_strength\"]*4,\n",
    "            linewidth=1,edgecolor=\"k\",cmap=\"viridis_r\")\n",
    "ax.set_facecolor(\"w\")\n",
    "ax.set_xlabel(\"fine_agg\")\n",
    "ax.set_ylabel(\"cement\")\n",
    "lab = plt.colorbar()\n",
    "lab.set_label(\"compressive_strength\")\n",
    "plt.title(\"scatter plot between fine_agg and coarse_agg\")\n",
    "plt.grid(True,alpha=.3)\n",
    "plt.show()"
   ]
  },
  {
   "cell_type": "markdown",
   "metadata": {
    "_uuid": "edaa7fa756cf7545b0b592e6df36bb213b6af320",
    "collapsed": true
   },
   "source": [
    "\n",
    "### Splitting train and test data"
   ]
  },
  {
   "cell_type": "code",
   "execution_count": null,
   "metadata": {
    "_kg_hide-input": true,
    "_uuid": "ceebafb8e85b8aacd2c4944ebdcc0b13c0120012",
    "collapsed": true
   },
   "outputs": [],
   "source": [
    "#Splitting train and test data\n",
    "from sklearn.model_selection import train_test_split\n",
    "\n",
    "train,test = train_test_split(data,test_size =.3,random_state = 123)\n",
    "train_X = train[[x for x in train.columns if x not in [\"compressive_strength\"] + [\"age_months\"]]]\n",
    "train_Y = train[\"compressive_strength\"]\n",
    "test_X  = test[[x for x in test.columns if x not in [\"compressive_strength\"] + [\"age_months\"]]]\n",
    "test_Y  = test[\"compressive_strength\"]\n"
   ]
  },
  {
   "cell_type": "markdown",
   "metadata": {
    "_uuid": "28f9f713d424553107eb98d2564b4bd5534c3eef"
   },
   "source": [
    "# Model"
   ]
  },
  {
   "cell_type": "code",
   "execution_count": null,
   "metadata": {
    "_kg_hide-input": true,
    "_uuid": "d76fea7bdebfb9b0a6e1e5c482424d4a4144a116",
    "collapsed": true
   },
   "outputs": [],
   "source": [
    "from sklearn.metrics import mean_squared_error\n",
    "from sklearn.cross_validation import cross_val_score\n",
    "\n",
    "target = \"compressive_strength\"\n",
    "def model(algorithm,dtrainx,dtrainy,dtestx,dtesty,of_type):\n",
    "    \n",
    "    print (algorithm)\n",
    "    print (\"***************************************************************************\")\n",
    "    algorithm.fit(dtrainx,dtrainy)\n",
    "    prediction = algorithm.predict(dtestx)\n",
    "    print (\"ROOT MEAN SQUARED ERROR :\", np.sqrt(mean_squared_error(dtesty,prediction)) )\n",
    "    print (\"***************************************************************************\")\n",
    "    prediction = pd.DataFrame(prediction)\n",
    "    cross_val = cross_val_score(algorithm,dtrainx,dtrainy,cv=20,scoring=\"neg_mean_squared_error\")\n",
    "    cross_val = cross_val.ravel()\n",
    "    print (\"CROSS VALIDATION SCORE\")\n",
    "    print (\"************************\")\n",
    "    print (\"cv-mean :\",cross_val.mean())\n",
    "    print (\"cv-std  :\",cross_val.std())\n",
    "    print (\"cv-max  :\",cross_val.max())\n",
    "    print (\"cv-min  :\",cross_val.min())\n",
    "    \n",
    "    plt.figure(figsize=(13,28))\n",
    "    plt.subplot(211)\n",
    "    \n",
    "    testy = dtesty.reset_index()[\"compressive_strength\"]\n",
    "    \n",
    "    ax = testy.plot(label=\"originals\",figsize=(12,13),linewidth=2)\n",
    "    ax = prediction[0].plot(label = \"predictions\",figsize=(12,13),linewidth=2)\n",
    "  #  plt.axhline(testy.mean(),color = \"r\",linestyle=\"dashed\",label=(\"original_mean:\",testy.mean()))\n",
    "  #  plt.axhline(prediction[0].mean(),color=\"b\",linestyle = \"dashed\",label=(\"prediction_mean:\",prediction[0].mean()))\n",
    "    plt.legend(loc=\"best\")\n",
    "    plt.title(\"ORIGINALS VS PREDICTIONS\")\n",
    "    plt.xlabel(\"index\")\n",
    "    plt.ylabel(\"values\")\n",
    "    ax.set_facecolor(\"k\")\n",
    "    \n",
    "    plt.subplot(212)\n",
    "    \n",
    "    if of_type == \"coef\":\n",
    "        coef = pd.DataFrame(algorithm.coef_.ravel())\n",
    "        coef[\"feat\"] = dtrainx.columns\n",
    "        ax1 = sns.barplot(coef[\"feat\"],coef[0],palette=\"jet_r\",\n",
    "                          linewidth=2,edgecolor=\"k\"*coef[\"feat\"].nunique())\n",
    "        ax1.set_facecolor(\"lightgrey\")\n",
    "        ax1.axhline(0,color=\"k\",linewidth=2)\n",
    "        plt.ylabel(\"coefficients\")\n",
    "        plt.xlabel(\"features\")\n",
    "        plt.title('FEATURE IMPORTANCES')\n",
    "    \n",
    "    elif of_type == \"feat\":\n",
    "        coef = pd.DataFrame(algorithm.feature_importances_)\n",
    "        coef[\"feat\"] = dtrainx.columns\n",
    "        ax2 = sns.barplot(coef[\"feat\"],coef[0],palette=\"jet_r\",\n",
    "                          linewidth=2,edgecolor=\"k\"*coef[\"feat\"].nunique())\n",
    "        ax2.set_facecolor(\"lightgrey\")\n",
    "        ax2.axhline(0,color=\"k\",linewidth=2)\n",
    "        plt.ylabel(\"coefficients\")\n",
    "        plt.xlabel(\"features\")\n",
    "        plt.title('FEATURE IMPORTANCES')\n",
    "\n",
    "import warnings\n",
    "warnings.filterwarnings(\"ignore\")\n"
   ]
  },
  {
   "cell_type": "markdown",
   "metadata": {
    "_uuid": "71543710a768d6d43855f3cf2d03fcc6f885e2e8"
   },
   "source": [
    "# Linear Regression"
   ]
  },
  {
   "cell_type": "code",
   "execution_count": null,
   "metadata": {
    "_kg_hide-input": true,
    "_uuid": "e27c98b6771e27118c8e54b97440b1a684142f0a",
    "collapsed": true
   },
   "outputs": [],
   "source": [
    "from sklearn.linear_model import LinearRegression\n",
    "lr = LinearRegression()\n",
    "model(lr,train_X,train_Y,test_X,test_Y,\"coef\")"
   ]
  },
  {
   "cell_type": "markdown",
   "metadata": {
    "_uuid": "a7a9d0360c32da89bb847a759a1983a0079758fa"
   },
   "source": [
    "# Lasso Regression"
   ]
  },
  {
   "cell_type": "code",
   "execution_count": null,
   "metadata": {
    "_kg_hide-input": true,
    "_uuid": "232524941a5f78648a3f34180cff34137473993e",
    "collapsed": true
   },
   "outputs": [],
   "source": [
    "from sklearn.linear_model import Ridge,Lasso\n",
    "ls = Lasso()\n",
    "model(ls,train_X,train_Y,test_X,test_Y,\"coef\")"
   ]
  },
  {
   "cell_type": "markdown",
   "metadata": {
    "_uuid": "77ff88fd5bc2cf591d50d86d3956766818e736f0"
   },
   "source": [
    "# Ridge Regression"
   ]
  },
  {
   "cell_type": "code",
   "execution_count": null,
   "metadata": {
    "_kg_hide-input": true,
    "_uuid": "bfe35fefc06f1f7d84cbddf3a659c90f6bca659d",
    "collapsed": true
   },
   "outputs": [],
   "source": [
    "rigde = Ridge()\n",
    "model(rigde,train_X,train_Y,test_X,test_Y,\"coef\")"
   ]
  },
  {
   "cell_type": "markdown",
   "metadata": {
    "_uuid": "3a0aa1aa44ec3950ec827b0a66ef5818b1022f7c"
   },
   "source": [
    "# KNN Regressor"
   ]
  },
  {
   "cell_type": "code",
   "execution_count": null,
   "metadata": {
    "_kg_hide-input": true,
    "_uuid": "43575019ba90b388bf63b4c59a19b715a5051c2d",
    "collapsed": true
   },
   "outputs": [],
   "source": [
    "from sklearn.neighbors import KNeighborsRegressor\n",
    "\n",
    "knn = KNeighborsRegressor()\n",
    "knn.fit(train_X,train_Y)\n",
    "\n",
    "predictions = knn.predict(test_X)\n",
    "predictions = pd.DataFrame(predictions)\n",
    "\n",
    "test_y_new = test_Y.reset_index()\n",
    "test_y_new = test_y_new[\"compressive_strength\"]\n",
    "\n",
    "\n",
    "ax3 = test_y_new.plot(label=\"originals\",figsize=(12,6),linewidth=2)\n",
    "ax3 = predictions[0].plot(label=\"predictions\",figsize=(12,6),linewidth=2)\n",
    "plt.legend(loc=\"best\")\n",
    "plt.title(\"ORIGINALS VS PREDICTIONS\")\n",
    "plt.xlabel(\"index\")\n",
    "plt.ylabel(\"values\")\n",
    "ax3.set_facecolor(\"k\")\n",
    "\n",
    "print (knn)\n",
    "print (\"************************************************************************\")\n",
    "print (\"ROOT MEAN SQUARED ERROR : \",np.sqrt(mean_squared_error(test_Y,predictions)))\n",
    "cross_valid = cross_val_score(knn,train_X,train_Y,cv=20,scoring=\"neg_mean_squared_error\")\n",
    "cross_valid = cross_valid.ravel()\n",
    "print (\"************************************************************************\")\n",
    "print (\"CROSS VALIDATION SCORE\")\n",
    "print (\"************************\")\n",
    "print (\"cv-mean :\",cross_valid.mean())\n",
    "print (\"cv-std  :\",cross_valid.std())\n",
    "print (\"cv-max  :\",cross_valid.max())\n",
    "print (\"cv-min  :\",cross_valid.min())"
   ]
  },
  {
   "cell_type": "markdown",
   "metadata": {
    "_uuid": "6f9d6e8d2f62f943ee6de608ce8a112278e1f6f2"
   },
   "source": [
    "# Ada Boost Regressor"
   ]
  },
  {
   "cell_type": "code",
   "execution_count": null,
   "metadata": {
    "_kg_hide-input": true,
    "_uuid": "942518a93062d62b7a17e56ed48df6d3e6046bc8",
    "collapsed": true
   },
   "outputs": [],
   "source": [
    "from sklearn.ensemble import AdaBoostRegressor\n",
    "adb = AdaBoostRegressor()\n",
    "model(adb,train_X,train_Y,test_X,test_Y,\"feat\")"
   ]
  },
  {
   "cell_type": "markdown",
   "metadata": {
    "_uuid": "6ce67f0354a8ee03c3f75959dcc21c8ee1635fec"
   },
   "source": [
    "# ExtraTrees Regressor"
   ]
  },
  {
   "cell_type": "code",
   "execution_count": null,
   "metadata": {
    "_kg_hide-input": true,
    "_uuid": "3db7fc980d217f961e711ae778f9f2bc729a5263",
    "collapsed": true
   },
   "outputs": [],
   "source": [
    "from sklearn.ensemble import ExtraTreesRegressor\n",
    "etr = ExtraTreesRegressor()\n",
    "model(etr,train_X,train_Y,test_X,test_Y,\"feat\")"
   ]
  },
  {
   "cell_type": "markdown",
   "metadata": {
    "_uuid": "700ac6fe9b18228b610d04acfb930911629396a0"
   },
   "source": [
    "# Decision Tree Regressor"
   ]
  },
  {
   "cell_type": "code",
   "execution_count": null,
   "metadata": {
    "_kg_hide-input": true,
    "_uuid": "ed2ed8f30573e63832ce59d1d58e5c316a261771",
    "collapsed": true
   },
   "outputs": [],
   "source": [
    "from sklearn.tree import DecisionTreeRegressor\n",
    "dtr = DecisionTreeRegressor()\n",
    "model(dtr,train_X,train_Y,test_X,test_Y,\"feat\")"
   ]
  },
  {
   "cell_type": "markdown",
   "metadata": {
    "_uuid": "9fbf205afbbe4ca16c3bc86f9f32c6ac7ddb154a"
   },
   "source": [
    "# Random Forest Regressor"
   ]
  },
  {
   "cell_type": "code",
   "execution_count": null,
   "metadata": {
    "_kg_hide-input": true,
    "_uuid": "eae368edb4c407ec3d467f2c2c41610a38f406e1",
    "collapsed": true
   },
   "outputs": [],
   "source": [
    "from sklearn.ensemble import RandomForestRegressor\n",
    "rf = RandomForestRegressor()\n",
    "model(rf,train_X,train_Y,test_X,test_Y,\"feat\")"
   ]
  },
  {
   "cell_type": "markdown",
   "metadata": {
    "_uuid": "22700377da35017921962c048b5b97934f55d8b4"
   },
   "source": [
    "# Gradient Boosting Regressor"
   ]
  },
  {
   "cell_type": "code",
   "execution_count": null,
   "metadata": {
    "_kg_hide-input": true,
    "_uuid": "e3ddf856c7cffa0631b14d85adaa77b5d3b31606",
    "collapsed": true
   },
   "outputs": [],
   "source": [
    "from sklearn.ensemble import GradientBoostingRegressor\n",
    "gbr = GradientBoostingRegressor()\n",
    "model(gbr,train_X,train_Y,test_X,test_Y,\"feat\")"
   ]
  },
  {
   "cell_type": "markdown",
   "metadata": {
    "_uuid": "277153dd489f538584f1ceef6a3a9062fe3b1a7f"
   },
   "source": [
    "# XGBoost Regressor"
   ]
  },
  {
   "cell_type": "code",
   "execution_count": null,
   "metadata": {
    "_kg_hide-input": true,
    "_uuid": "e8118dd083d3c29697d0bc67868766d322701f12",
    "collapsed": true
   },
   "outputs": [],
   "source": [
    "import xgboost as xgb\n",
    "from xgboost.sklearn import XGBRegressor\n",
    "xgr =XGBRegressor()\n",
    "model(xgr,train_X,train_Y,test_X,test_Y,\"feat\")"
   ]
  },
  {
   "cell_type": "code",
   "execution_count": null,
   "metadata": {
    "_uuid": "56ceb35b25c9d72be13d1842cd930a130a2fa69d",
    "collapsed": true
   },
   "outputs": [],
   "source": []
  },
  {
   "cell_type": "code",
   "execution_count": null,
   "metadata": {
    "_uuid": "789339705c761c2c29539df3724bc29059f89d50",
    "collapsed": true
   },
   "outputs": [],
   "source": []
  }
 ],
 "metadata": {
  "kernelspec": {
   "display_name": "Python 3",
   "language": "python",
   "name": "python3"
  },
  "language_info": {
   "codemirror_mode": {
    "name": "ipython",
    "version": 3
   },
   "file_extension": ".py",
   "mimetype": "text/x-python",
   "name": "python",
   "nbconvert_exporter": "python",
   "pygments_lexer": "ipython3",
   "version": "3.7.1"
  }
 },
 "nbformat": 4,
 "nbformat_minor": 1
}
